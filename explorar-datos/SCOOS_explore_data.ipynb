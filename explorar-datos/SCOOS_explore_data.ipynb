{
 "cells": [
  {
   "cell_type": "code",
   "execution_count": 1,
   "metadata": {},
   "outputs": [],
   "source": [
    "import pandas as pd\n",
    "import numpy as np\n",
    "import matplotlib as mlp\n",
    "from matplotlib import pyplot as plt\n",
    "%matplotlib inline"
   ]
  },
  {
   "cell_type": "code",
   "execution_count": 2,
   "metadata": {},
   "outputs": [],
   "source": [
    "scoos = pd.read_csv(\"../data/SCOOS_Harmful_Algal_Blooms_1916-2019.csv\", skiprows= 7, encoding=\"latin-1\")"
   ]
  },
  {
   "cell_type": "code",
   "execution_count": 3,
   "metadata": {},
   "outputs": [
    {
     "data": {
      "text/html": [
       "<div>\n",
       "<style scoped>\n",
       "    .dataframe tbody tr th:only-of-type {\n",
       "        vertical-align: middle;\n",
       "    }\n",
       "\n",
       "    .dataframe tbody tr th {\n",
       "        vertical-align: top;\n",
       "    }\n",
       "\n",
       "    .dataframe thead th {\n",
       "        text-align: right;\n",
       "    }\n",
       "</style>\n",
       "<table border=\"1\" class=\"dataframe\">\n",
       "  <thead>\n",
       "    <tr style=\"text-align: right;\">\n",
       "      <th></th>\n",
       "      <th>year</th>\n",
       "      <th>month</th>\n",
       "      <th>day</th>\n",
       "      <th>time</th>\n",
       "      <th>latitude</th>\n",
       "      <th>longitude</th>\n",
       "      <th>depth (m)</th>\n",
       "      <th>location</th>\n",
       "      <th>Akashiwo sanguinea (cells/L)</th>\n",
       "      <th>Alexandrium spp. (cells/L)</th>\n",
       "      <th>...</th>\n",
       "      <th>Phaeophytin 1 (mg/m3)</th>\n",
       "      <th>Phaeophytin 2 (mg/m3)</th>\n",
       "      <th>Phosphate (uM)</th>\n",
       "      <th>Prorocentrum spp. (cells/L)</th>\n",
       "      <th>Pseudo-nitzschia delicatissima group (cells/L)</th>\n",
       "      <th>Pseudo-nitzschia seriata group (cells/L)</th>\n",
       "      <th>Silicate (uM)</th>\n",
       "      <th>Volume Settled for counting (mL)</th>\n",
       "      <th>Water Temperature (°C)</th>\n",
       "      <th>Volume for counting (mL)</th>\n",
       "    </tr>\n",
       "  </thead>\n",
       "  <tbody>\n",
       "    <tr>\n",
       "      <th>0</th>\n",
       "      <td>1969</td>\n",
       "      <td>12</td>\n",
       "      <td>31</td>\n",
       "      <td>23:59:59</td>\n",
       "      <td>33.606100</td>\n",
       "      <td>-117.931100</td>\n",
       "      <td>0.0</td>\n",
       "      <td>Newport Pier</td>\n",
       "      <td>0.0</td>\n",
       "      <td>0.0</td>\n",
       "      <td>...</td>\n",
       "      <td>NaN</td>\n",
       "      <td>NaN</td>\n",
       "      <td>0.310</td>\n",
       "      <td>5200.0</td>\n",
       "      <td>5200.0</td>\n",
       "      <td>15599.0</td>\n",
       "      <td>NaN</td>\n",
       "      <td>25.0</td>\n",
       "      <td>18.0</td>\n",
       "      <td>NaN</td>\n",
       "    </tr>\n",
       "    <tr>\n",
       "      <th>1</th>\n",
       "      <td>1969</td>\n",
       "      <td>12</td>\n",
       "      <td>31</td>\n",
       "      <td>23:59:59</td>\n",
       "      <td>34.408000</td>\n",
       "      <td>-119.685000</td>\n",
       "      <td>0.0</td>\n",
       "      <td>Stearns Wharf</td>\n",
       "      <td>0.0</td>\n",
       "      <td>0.0</td>\n",
       "      <td>...</td>\n",
       "      <td>0.58</td>\n",
       "      <td>NaN</td>\n",
       "      <td>1.102</td>\n",
       "      <td>2552.0</td>\n",
       "      <td>1392.0</td>\n",
       "      <td>0.0</td>\n",
       "      <td>6.562</td>\n",
       "      <td>50.0</td>\n",
       "      <td>NaN</td>\n",
       "      <td>NaN</td>\n",
       "    </tr>\n",
       "    <tr>\n",
       "      <th>2</th>\n",
       "      <td>1969</td>\n",
       "      <td>12</td>\n",
       "      <td>31</td>\n",
       "      <td>23:59:59</td>\n",
       "      <td>36.603686</td>\n",
       "      <td>-121.889271</td>\n",
       "      <td>0.0</td>\n",
       "      <td>Monterey Wharf</td>\n",
       "      <td>0.0</td>\n",
       "      <td>858.0</td>\n",
       "      <td>...</td>\n",
       "      <td>NaN</td>\n",
       "      <td>NaN</td>\n",
       "      <td>NaN</td>\n",
       "      <td>17503.0</td>\n",
       "      <td>1500.0</td>\n",
       "      <td>5574.0</td>\n",
       "      <td>NaN</td>\n",
       "      <td>NaN</td>\n",
       "      <td>NaN</td>\n",
       "      <td>NaN</td>\n",
       "    </tr>\n",
       "    <tr>\n",
       "      <th>3</th>\n",
       "      <td>1969</td>\n",
       "      <td>12</td>\n",
       "      <td>31</td>\n",
       "      <td>23:59:59</td>\n",
       "      <td>34.408000</td>\n",
       "      <td>-119.685000</td>\n",
       "      <td>0.0</td>\n",
       "      <td>Stearns Wharf</td>\n",
       "      <td>NaN</td>\n",
       "      <td>NaN</td>\n",
       "      <td>...</td>\n",
       "      <td>NaN</td>\n",
       "      <td>NaN</td>\n",
       "      <td>NaN</td>\n",
       "      <td>NaN</td>\n",
       "      <td>NaN</td>\n",
       "      <td>NaN</td>\n",
       "      <td>NaN</td>\n",
       "      <td>NaN</td>\n",
       "      <td>NaN</td>\n",
       "      <td>NaN</td>\n",
       "    </tr>\n",
       "    <tr>\n",
       "      <th>4</th>\n",
       "      <td>1969</td>\n",
       "      <td>12</td>\n",
       "      <td>31</td>\n",
       "      <td>23:59:59</td>\n",
       "      <td>34.008000</td>\n",
       "      <td>-118.499000</td>\n",
       "      <td>0.0</td>\n",
       "      <td>Santa Monica Pier</td>\n",
       "      <td>748.0</td>\n",
       "      <td>0.0</td>\n",
       "      <td>...</td>\n",
       "      <td>NaN</td>\n",
       "      <td>NaN</td>\n",
       "      <td>NaN</td>\n",
       "      <td>2992.0</td>\n",
       "      <td>0.0</td>\n",
       "      <td>7480.0</td>\n",
       "      <td>NaN</td>\n",
       "      <td>NaN</td>\n",
       "      <td>16.8</td>\n",
       "      <td>NaN</td>\n",
       "    </tr>\n",
       "  </tbody>\n",
       "</table>\n",
       "<p>5 rows × 33 columns</p>\n",
       "</div>"
      ],
      "text/plain": [
       "   year  month  day      time   latitude   longitude  depth (m)  \\\n",
       "0  1969     12   31  23:59:59  33.606100 -117.931100        0.0   \n",
       "1  1969     12   31  23:59:59  34.408000 -119.685000        0.0   \n",
       "2  1969     12   31  23:59:59  36.603686 -121.889271        0.0   \n",
       "3  1969     12   31  23:59:59  34.408000 -119.685000        0.0   \n",
       "4  1969     12   31  23:59:59  34.008000 -118.499000        0.0   \n",
       "\n",
       "            location  Akashiwo sanguinea (cells/L)  \\\n",
       "0       Newport Pier                           0.0   \n",
       "1      Stearns Wharf                           0.0   \n",
       "2     Monterey Wharf                           0.0   \n",
       "3      Stearns Wharf                           NaN   \n",
       "4  Santa Monica Pier                         748.0   \n",
       "\n",
       "   Alexandrium spp. (cells/L)  ...  Phaeophytin 1 (mg/m3)  \\\n",
       "0                         0.0  ...                    NaN   \n",
       "1                         0.0  ...                   0.58   \n",
       "2                       858.0  ...                    NaN   \n",
       "3                         NaN  ...                    NaN   \n",
       "4                         0.0  ...                    NaN   \n",
       "\n",
       "   Phaeophytin 2 (mg/m3)  Phosphate (uM)  Prorocentrum spp. (cells/L)  \\\n",
       "0                    NaN           0.310                       5200.0   \n",
       "1                    NaN           1.102                       2552.0   \n",
       "2                    NaN             NaN                      17503.0   \n",
       "3                    NaN             NaN                          NaN   \n",
       "4                    NaN             NaN                       2992.0   \n",
       "\n",
       "   Pseudo-nitzschia delicatissima group (cells/L)  \\\n",
       "0                                          5200.0   \n",
       "1                                          1392.0   \n",
       "2                                          1500.0   \n",
       "3                                             NaN   \n",
       "4                                             0.0   \n",
       "\n",
       "   Pseudo-nitzschia seriata group (cells/L)  Silicate (uM)  \\\n",
       "0                                   15599.0            NaN   \n",
       "1                                       0.0          6.562   \n",
       "2                                    5574.0            NaN   \n",
       "3                                       NaN            NaN   \n",
       "4                                    7480.0            NaN   \n",
       "\n",
       "   Volume Settled for counting (mL)  Water Temperature (°C)  \\\n",
       "0                              25.0                    18.0   \n",
       "1                              50.0                     NaN   \n",
       "2                               NaN                     NaN   \n",
       "3                               NaN                     NaN   \n",
       "4                               NaN                    16.8   \n",
       "\n",
       "   Volume for counting (mL)  \n",
       "0                       NaN  \n",
       "1                       NaN  \n",
       "2                       NaN  \n",
       "3                       NaN  \n",
       "4                       NaN  \n",
       "\n",
       "[5 rows x 33 columns]"
      ]
     },
     "execution_count": 3,
     "metadata": {},
     "output_type": "execute_result"
    }
   ],
   "source": [
    "scoos.head()"
   ]
  },
  {
   "cell_type": "code",
   "execution_count": 21,
   "metadata": {},
   "outputs": [
    {
     "data": {
      "text/plain": [
       "0"
      ]
     },
     "execution_count": 21,
     "metadata": {},
     "output_type": "execute_result"
    },
    {
     "data": {
      "image/png": "[encoded data removed]",
      "text/plain": [
       "<Figure size 432x288 with 1 Axes>"
      ]
     },
     "metadata": {
      "needs_background": "light"
     },
     "output_type": "display_data"
    }
   ],
   "source": [
    "plt.hist2d(scoos.longitude, scoos.latitude, bins=50, cmin=1)\n",
    "plt.title(\"Geographical distribution of points\")\n",
    "0"
   ]
  },
  {
   "cell_type": "code",
   "execution_count": 6,
   "metadata": {},
   "outputs": [],
   "source": [
    "scoos[\"Date\"] = pd.to_datetime(scoos.apply(lambda x: str(x.year)+\"-\"+str(x.month)+\"-\"+str(x.day), axis=1))"
   ]
  },
  {
   "cell_type": "code",
   "execution_count": 31,
   "metadata": {},
   "outputs": [
    {
     "data": {
      "text/plain": [
       "Text(0.5, 1.0, 'Distribution of SCOOS data points over time')"
      ]
     },
     "execution_count": 31,
     "metadata": {},
     "output_type": "execute_result"
    },
    {
     "data": {
      "image/png": "[encoded data removed]",
      "text/plain": [
       "<Figure size 432x288 with 1 Axes>"
      ]
     },
     "metadata": {
      "needs_background": "light"
     },
     "output_type": "display_data"
    }
   ],
   "source": [
    "scoos[scoos.Date > pd.to_datetime(\"2002-01-01\")].Date.hist(bins=20)\n",
    "plt.title(\"Distribution of SCOOS data points over time\")"
   ]
  },
  {
   "cell_type": "code",
   "execution_count": 25,
   "metadata": {},
   "outputs": [
    {
     "data": {
      "text/plain": [
       "(1596,)"
      ]
     },
     "execution_count": 25,
     "metadata": {},
     "output_type": "execute_result"
    }
   ],
   "source": [
    "# Unique dates:\n",
    "scoos.groupby(\"Date\").apply(lambda.unique().shape"
   ]
  },
  {
   "cell_type": "code",
   "execution_count": 14,
   "metadata": {},
   "outputs": [
    {
     "data": {
      "text/plain": [
       "200806     4\n",
       "200807    21\n",
       "200808    23\n",
       "200809    28\n",
       "200810    29\n",
       "Name: Date, dtype: int64"
      ]
     },
     "execution_count": 14,
     "metadata": {},
     "output_type": "execute_result"
    }
   ],
   "source": [
    "scoos[scoos.Date > pd.to_datetime(\"2008-01-01\")].Date.map(lambda x: x.year*100+x.month).value_counts().sort_index().head()"
   ]
  },
  {
   "cell_type": "code",
   "execution_count": 20,
   "metadata": {},
   "outputs": [
    {
     "data": {
      "text/plain": [
       "(32.863, 32.908](-117.305, -117.257]    664\n",
       "(35.158, 35.199](-120.779, -120.732]    587\n",
       "(34.381, 34.422](-119.732, -119.685]    549\n",
       "(33.603, 33.644](-117.971, -117.923]    547\n",
       "(33.972, 34.012](-118.542, -118.495]    505\n",
       "(36.917, 36.958](-122.022, -121.969]    354\n",
       "(36.59, 36.631](-121.922, -121.874]     276\n",
       "(34.381, 34.422](-119.875, -119.827]    117\n",
       "dtype: int64"
      ]
     },
     "execution_count": 20,
     "metadata": {},
     "output_type": "execute_result"
    }
   ],
   "source": [
    "\n",
    "(pd.cut(scoos.latitude,100).astype(str) + pd.cut(scoos.longitude,100).astype(str)).value_counts()"
   ]
  },
  {
   "cell_type": "code",
   "execution_count": 23,
   "metadata": {},
   "outputs": [
    {
     "data": {
      "text/plain": [
       "(8, 8)"
      ]
     },
     "execution_count": 23,
     "metadata": {},
     "output_type": "execute_result"
    }
   ],
   "source": [
    "len(scoos.latitude.unique()), len(scoos.longitude.unique())"
   ]
  },
  {
   "cell_type": "code",
   "execution_count": 25,
   "metadata": {},
   "outputs": [
    {
     "data": {
      "text/plain": [
       "array(['33.6061,-117.9311', '34.408,-119.685',\n",
       "       '36.603685999999996,-121.889271', '34.008,-118.499',\n",
       "       '36.958,-122.01700000000001', '34.4161076,-119.82874939999999',\n",
       "       '32.867,-117.257', '35.17,-120.741'], dtype=object)"
      ]
     },
     "execution_count": 25,
     "metadata": {},
     "output_type": "execute_result"
    }
   ],
   "source": [
    "(scoos.latitude.astype(str) + \",\" + scoos.longitude.astype(str)).unique()"
   ]
  },
  {
   "cell_type": "code",
   "execution_count": null,
   "metadata": {},
   "outputs": [],
   "source": []
  }
 ],
 "metadata": {
  "kernelspec": {
   "display_name": "Python 3",
   "language": "python",
   "name": "python3"
  },
  "language_info": {
   "codemirror_mode": {
    "name": "ipython",
    "version": 3
   },
   "file_extension": ".py",
   "mimetype": "text/x-python",
   "name": "python",
   "nbconvert_exporter": "python",
   "pygments_lexer": "ipython3",
   "version": "3.6.7"
  }
 },
 "nbformat": 4,
 "nbformat_minor": 2
}
